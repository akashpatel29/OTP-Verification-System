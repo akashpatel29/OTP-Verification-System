{
 "cells": [
  {
   "cell_type": "code",
   "execution_count": 4,
   "id": "efa09d3d-f25b-4ecb-a00a-6df25fd04891",
   "metadata": {},
   "outputs": [
    {
     "name": "stdin",
     "output_type": "stream",
     "text": [
      "Enter your email address:  akash.tinu@gmail.com\n"
     ]
    },
    {
     "name": "stdout",
     "output_type": "stream",
     "text": [
      "OTP sent successfully!\n"
     ]
    },
    {
     "name": "stdin",
     "output_type": "stream",
     "text": [
      "Enter the OTP you have received:  676767\n"
     ]
    },
    {
     "name": "stdout",
     "output_type": "stream",
     "text": [
      "Access granted!!\n"
     ]
    }
   ],
   "source": [
    "import smtplib # Import SMTP library to send emails\n",
    "import random # Importing the random library to generate OTPs\n",
    "\n",
    "# Function to generate a six-digit OTP.\n",
    "def generate_otp():\n",
    "    return str(random.randint(100000,999999))\n",
    "\n",
    "# Function to send OTP via email\n",
    "def send_otp_email(email, otp):\n",
    "    smtp_server = 'smtp.gmail.com' # SMTP server for Gmail\n",
    "    smtp_port = 587   # SMTP port for Gmail\n",
    "\n",
    "    sender_email = 'akash.tinu@gmail.com' # Sender's email address\n",
    "    sender_password = 'gjwz quee hlwf fmsn'\n",
    "    subject = 'Your One Time Password (OTP)'\n",
    "    body = f'Your OTP is: {otp}'\n",
    "    message = f'Subject: {subject}\\n\\n{body}'\n",
    "\n",
    "    try:\n",
    "        server = smtplib.SMTP(smtp_server, smtp_port) # Connect to SMTP server\n",
    "        server.starttls()  # For security\n",
    "        server.login(sender_email, sender_password)\n",
    "        server.sendmail(sender_email, email, message)\n",
    "        print('OTP sent successfully!')\n",
    "    except Exception as e:\n",
    "        print(f'Failed to send OTP: {e}')\n",
    "    finally:\n",
    "        server.quit()  # Quit the SMTP server connection\n",
    "\n",
    "def validate_otp(otp, entered_otp): # Function to validate entered OTP\n",
    "    n = 1\n",
    "    while n <= 3:\n",
    "        if otp == entered_otp:\n",
    "            return 'Access granted!!'\n",
    "        else:\n",
    "            if n == 3:\n",
    "                print('Zero chance left')\n",
    "                return 'Access denied. OTP verification failed.'\n",
    "            else:\n",
    "                print('You have entered the wrong OTP, please try again.')\n",
    "                print(f'You are left with {3 - n} chances.')\n",
    "                n += 1\n",
    "                entered_otp = input('Re-enter the OTP that was sent to your email: ')\n",
    "\n",
    "def main():  # Main function to execute the OTP verification process\n",
    "    user_email = input('Enter your email address: ')  # Prompting user to enter email address\n",
    "    otp = generate_otp() # OTP Generation\n",
    "    send_otp_email(user_email, otp)\n",
    "    entered_otp = input('Enter the OTP you have received: ') # Prompting user to enter the received OTP\n",
    "    print(validate_otp(otp, entered_otp))\n",
    "\n",
    "if __name__ == '__main__':\n",
    "    main()"
   ]
  },
  {
   "cell_type": "code",
   "execution_count": null,
   "id": "cc8d23dd-9e90-4899-b016-1a8215ac77ec",
   "metadata": {},
   "outputs": [],
   "source": []
  }
 ],
 "metadata": {
  "kernelspec": {
   "display_name": "Python 3 (ipykernel)",
   "language": "python",
   "name": "python3"
  },
  "language_info": {
   "codemirror_mode": {
    "name": "ipython",
    "version": 3
   },
   "file_extension": ".py",
   "mimetype": "text/x-python",
   "name": "python",
   "nbconvert_exporter": "python",
   "pygments_lexer": "ipython3",
   "version": "3.11.7"
  }
 },
 "nbformat": 4,
 "nbformat_minor": 5
}
